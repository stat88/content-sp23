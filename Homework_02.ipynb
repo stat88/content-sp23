{
 "cells": [
  {
   "cell_type": "markdown",
   "metadata": {
    "#solution": false,
    "#staff": false,
    "#student": false
   },
   "source": [
    "<table align=\"left\" style=\"border-style: hidden\" class=\"table\"> <tr><td class=\"col-md-2\"><img style=\"float\" src=\"../logo.png\" alt=\"Data 88S Logo\" style=\"width: 120px;\"/></td><td><div align=\"left\"><h3 style=\"margin-top: 0;\">Probability for Data Science</h3><h4 style=\"margin-top: 20px;\">UC Berkeley, Spring 2023</h4><p>Shobhana Stoyanov</p>CC BY-NC 4.0</div></td></tr></table><!-- not in pdf -->\n",
    "\n",
    "This content is protected and may not be shared, uploaded, or distributed."
   ]
  },
  {
   "cell_type": "markdown",
   "metadata": {
    "#solution": false,
    "#staff": false,
    "#student": false
   },
   "source": [
    "# Homework 2 #"
   ]
  },
  {
   "cell_type": "markdown",
   "metadata": {
    "#solution": false,
    "#staff": false,
    "#student": false
   },
   "source": [
    "### Instructions\n",
    "\n",
    "In all Data 88S homework, you will be providing written answers, not code. We encourage you to hand-write your answers. It is your responsibility to ensure that the homework is submitted completely and properly to Gradescope. **Make sure to assign each page of your pdf to the correct question.** Refer to the bottom of the notebook for submission instructions."
   ]
  },
  {
   "cell_type": "markdown",
   "metadata": {
    "#solution": false,
    "#staff": false,
    "#student": false,
    "tags": []
   },
   "source": [
    "## 1. World Economies ##\n",
    "\n",
    "Economists are making predictions about the financial health of three countries. For $i = 1, 2, 3$, let $G_i$ be the event that Country $i$ has no recession next year. Let $G$ be the event that none of the countries has a recession next year.\n",
    "\n",
    "**a)** Express the event $G$ in terms of the events $G_1$, $G_2$, and $G_3$ and the set operations $\\cup$, $\\cap$, and $^c$. Then, state in plain words what the event $G^c$ is.\n",
    "\n",
    "**b)** Fill in the blank with one of the symbols $\\le$, $=$, and $\\ge$ so that the resulting statement is always true, and explain your answer: $P(G) \\underline{~~~~~~~~~~~~~~~~~} P(G_1)$.\n",
    "\n",
    "**c)** Suppose the economists' predictions are all rosy: $P(G_1) = 0.9$, $P(G_2) = 0.95$, and $P(G_3) = 0.99$.\n",
    "\n",
    "Fill in the blank with the best lower bound you can find, and justify your answer: \n",
    "\n",
    "Without making any further assumptions, we can say that $P(G) \\ge \\underline{~~~~~~~~~~~~~~~}$.\n",
    "\n",
    "[*Hint:* use complements]\n",
    "\n",
    "The method you have discovered in the above parts is commonly used to find bounds on chances of intersections, for example the chance that several estimates based on a random sample all have acceptable accuracy.\n",
    "\n",
    "**d)** Along with the assumptions in part **c)**, further assume that the economy of Country 2 depends strongly on the economy of Country 1. In particular, if Country 1 has no recession next year, then economists predict that Country 2 has an increased chance of $0.99$ of having no recession next year. \n",
    "\n",
    "Find the chance that next year, Country 1 has no recession, but Country 2 does. If it can't be found, then find the best lower bound and upper bound that you can. "
   ]
  },
  {
   "cell_type": "markdown",
   "metadata": {
    "#solution": false,
    "#staff": false,
    "#student": false
   },
   "source": [
    "\\newpage"
   ]
  },
  {
   "cell_type": "markdown",
   "metadata": {
    "#solution": false,
    "#staff": false,
    "#student": false
   },
   "source": [
    "## 2. Chocolate Box ##\n",
    "\n",
    "A box contains 12 chocolates, 3 of which are white chocolate, 4 milk chocolate, and 5 dark chocolate. \n",
    "\n",
    "I am sharing the box with three of my friends. The four of us take turns, each one drawing a chocolate at random from those available in the box. Yes, we're drawing without replacement. We intend to eat the chocolates, not put them back.\n",
    "\n",
    "Politely, I let my friends draw before me.\n",
    "\n",
    "For each of the subparts, provide your answer as an unsimplified fractional expression.\n",
    "\n",
    "**a)** What is the chance that I draw a dark chocolate?\n",
    "\n",
    "**b)** Given that none of my friends draws a dark chocolate, what is the chance that I draw a dark chocolate?\n",
    "\n",
    "**c)** What is the chance that all four of us draw milk chocolates?\n",
    "\n",
    "**d)** What is the chance that the friend who gets to select first draws a dark chocolate and I draw a dark chocolate too?"
   ]
  },
  {
   "cell_type": "markdown",
   "metadata": {
    "#solution": false,
    "#staff": false,
    "#student": false
   },
   "source": [
    "\\newpage"
   ]
  },
  {
   "cell_type": "markdown",
   "metadata": {
    "#solution": false,
    "#staff": false,
    "#student": false,
    "tags": []
   },
   "source": [
    "## 3. Flight Delays ##\n",
    "\n",
    "Assume that the chance of a Spirit Airlines flight getting delayed and a Hawaiian Airlines flight getting delayed are independent events. The chance of a Spirit Airlines flight getting delayed is 30% and the chance of a Hawaiian Airlines flight getting delayed is 15% (according to [ValuePenguin.com](https://www.valuepenguin.com/travel/delays-cancellations-bags-study)). \n",
    "\n",
    "Let $A$ represent the event that a Spirit Airlines flight gets delayed, and $B$ represent the event that a Haiwaiian Airlines flight gets delayed.\n",
    "\n",
    "Find the chances below.\n",
    "\n",
    "**a)** The chance of both $A$ and $B$ happening.\n",
    "\n",
    "**b)** The chance of $A$ happening, given that $B$ happened.\n",
    "\n",
    "**c)** The chance of either $A$ or $B$ happening.\n",
    "\n",
    "**d)** The chance of neither $A$ nor $B$ happening."
   ]
  },
  {
   "cell_type": "markdown",
   "metadata": {
    "#solution": false,
    "#staff": false,
    "#student": false
   },
   "source": [
    "\\newpage"
   ]
  },
  {
   "cell_type": "markdown",
   "metadata": {
    "#solution": false,
    "#staff": false,
    "#student": false,
    "tags": []
   },
   "source": [
    "## 4. Balls in Boxes ##\n",
    "\n",
    "Students in probability classes sometimes wonder by probabilists seem to have a peculiar fascination with balls being thrown at random into boxes or drawn at random from urns. It's not just because probabilists are weird. It's because the image of balls and boxes is one unified way of thinking about repeated trials in diverse settings.\n",
    "\n",
    "For example, balls thrown at random into boxes independently of each other is a way of visualizing independent repeated trials that have equally likely outcomes. \n",
    "\n",
    "- Tossing a coin 10 times and keeping track of heads and tails is like throwing 10 balls independently at random into two boxes labeled H and T. The number of heads is the number of balls that fall in Box H.\n",
    "- Rolling a die 15 times and keeping track of the faces that appear is like throwing 15 balls independently at random into six boxes labeled $1, 2, 3, 4, 5, 6$.\n",
    "- Sampling $n$ times at random with replacement from a population of $N$ individuals is like throwing $n$ balls independently at random into $N$ boxes labeled $1, 2, \\ldots, N$. \n",
    "\n",
    "\n",
    "**a)** A random number generator that draws digits at random with replacement from $\\{0, 1, 2, 3, 4, 5, 6, 7, 8, 9\\}$ is run three times. Find the chance that the digits drawn can form the number 510, by rearrangement if necessary. \n",
    "\n",
    "Start by filling in the blanks in the following sentence; the first two blanks should be filled with integers. \"This experiment is like throwing $\\underline{~~~~~~~~~~}$ balls independently at random into $\\underline{~~~~~~~~~~}$ boxes labeled $\\underline{~~~~~~~~~~~~~~~~~~~~~~~~~~~~~~~}$.\" Then imagine where the balls must land to make the event occur. \n",
    "\n",
    "**b)** The mayor of Bogotá, Colombia, implemented a traffic regulation scheme called [Pico y Placa](https://en.wikipedia.org/wiki/Pico_y_placa) in 1998 to help decrease traffic congestion during rush hour in the city. The original scheme was a bit complicated for our purposes, so let's take a simplified model of this idea. Suppose that all cars in Bogotá only have license plates that end in numbers 1 through 7, and cars with license plate numbers ending in:\n",
    "- 1 can only drive on Mondays\n",
    "- 2 can only drive on Tuesdays\n",
    "- 3 can only drive on Wednesdays\n",
    "- 4 can only drive on Thursdays\n",
    "- 5 can only drive on Fridays\n",
    "- 6 can only drive on Saturdays\n",
    "- 7 can only drive on Sundays.\n",
    "\n",
    "Also assume that the last digit of each car's license plate number is assigned by the government at random, independently from all other cars.\n",
    "Find the chance that three cars picked at random in the city are all allowed to drive on different days.\n",
    "\n",
    "Start by filling in the blanks in the following sentence; the first two blanks should be filled with integers. \"This experiment is like throwing $\\underline{~~~~~~~~~~}$ balls independently at random into $\\underline{~~~~~~~~~~}$ boxes labeled $\\underline{~~~~~~~~~~~~~~~~~~~~~~~~~~~~~~~}$.\" Then imagine where the balls must land to make the event occur. \n",
    "\n",
    "Then explicitly find the chance.\n",
    "\n",
    "**c)** A roulette wheel is split into 38 equally-sized arcs. 18 are red, 18 are black, and 2 are green. \n",
    "\n",
    "The wheel is spun three times, where the results of each spin are independent of each other. Using the scheme developed in parts **a)** and **b)**, find the chance that the wheel never lands on black.\n",
    "\n",
    "**d)** In part **c)**, are the events \"the wheel never lands on black\" and \"the wheel never lands on red\" independent? Explain your answer.\n"
   ]
  },
  {
   "cell_type": "markdown",
   "metadata": {
    "#solution": false,
    "#staff": false,
    "#student": false,
    "tags": []
   },
   "source": [
    "## Submission Instructions ##\n",
    "\n",
    "Please follow the directions below to properly submit both portions.\n",
    "\n",
    "### Written Work ###\n",
    "*  Scan all the pages into a PDF. You can use any scanner or a phone using applications such as CamScanner. Please **DO NOT** simply take pictures using your phone. \n",
    "* Please start a new page for each question. If you have already written multiple questions on the same page, you can crop the image in CamScanner or fold your page over (the old-fashioned way). This helps expedite grading.\n",
    "* It is your responsibility to check that all the work on all the scanned pages is legible.\n",
    "    \n",
    "### Submitting ###\n",
    "* Submit the assignment to Homework 2 on Gradescope. \n",
    "* **Make sure to assign each page of your pdf to the correct question.**\n",
    "* **It is your responsibility to verify that all of your work shows up in your final PDF submission.**\n",
    "\n",
    "If you have questions about scanning or uploading your work, please post a follow-up to the Ed thread on [Gradescope Assignment Submission](https://edstem.org/us/courses/25014/discussion/1701331)."
   ]
  }
 ],
 "metadata": {
  "checksums": [
   "6e9d9428dfc4ae0311719cc29f4ab0f8",
   "b33297e1eff1902e80bcc722d659baa9",
   "c85847e7152d32c127cbdbf83d2eb10d",
   "b18073170bf000ab6ed1d48cae6fd876",
   "562505d567faf02dfc9388e81e89d07b",
   "f43893b8a3524d288a8a042a8f97d525",
   "562505d567faf02dfc9388e81e89d07b",
   "95cef20a370b4e900a7bf18fec2b8b17",
   "562505d567faf02dfc9388e81e89d07b",
   "b729614f9743a22f9d0c2e24a1a453d7",
   "5aa6ed6693529d81a7f676ce9a897482"
  ],
  "kernelspec": {
   "display_name": "Python 3 (ipykernel)",
   "language": "python",
   "name": "python3"
  },
  "language_info": {
   "codemirror_mode": {
    "name": "ipython",
    "version": 3
   },
   "file_extension": ".py",
   "mimetype": "text/x-python",
   "name": "python",
   "nbconvert_exporter": "python",
   "pygments_lexer": "ipython3",
   "version": "3.9.15"
  },
  "number_of_pagebreaks": 0
 },
 "nbformat": 4,
 "nbformat_minor": 4
}
