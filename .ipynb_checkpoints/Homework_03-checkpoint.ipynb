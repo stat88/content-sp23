{
 "cells": [
  {
   "cell_type": "markdown",
   "metadata": {
    "#solution": false,
    "#staff": false,
    "#student": false
   },
   "source": [
    "<table align=\"left\" style=\"border-style: hidden\" class=\"table\"> <tr><td class=\"col-md-2\"><img style=\"float\" src=\"../logo.png\" alt=\"Data 88S Logo\" style=\"width: 120px;\"/></td><td><div align=\"left\"><h3 style=\"margin-top: 0;\">Probability for Data Science</h3><h4 style=\"margin-top: 20px;\">UC Berkeley, Spring 2023</h4><p>Shobhana Stoyanov</p>CC BY-NC 4.0</div></td></tr></table><!-- not in pdf -->\n",
    "\n",
    "This content is protected and may not be shared, uploaded, or distributed."
   ]
  },
  {
   "cell_type": "code",
   "execution_count": null,
   "metadata": {
    "#solution": false,
    "#staff": false,
    "#student": false
   },
   "outputs": [],
   "source": [
    "from datascience import *\n",
    "import numpy as np\n",
    "from scipy import stats"
   ]
  },
  {
   "cell_type": "markdown",
   "metadata": {
    "#solution": false,
    "#staff": false,
    "#student": false
   },
   "source": [
    "# Homework 3 #"
   ]
  },
  {
   "cell_type": "markdown",
   "metadata": {
    "#solution": false,
    "#staff": false,
    "#student": false
   },
   "source": [
    "### Instructions\n",
    "\n",
    "In all Data 88S homework, you will be providing written answers, not code. We encourage you to hand-write your answers. It is your responsibility to ensure that the homework is submitted completely and properly to Gradescope. **Make sure to assign each page of your pdf to the correct question.** Refer to the bottom of the notebook for submission instructions.\n",
    "\n",
    "In some of the problems below, you have to do a numerical calculation in a code cell. All the libraries you might need have been imported for you. Run the import cell at the top before you start the homework.\n",
    "\n",
    "**Note about terminology:** Once and for all: If a question says \"$k$ successes\" it means exactly $k$ successes."
   ]
  },
  {
   "cell_type": "markdown",
   "metadata": {
    "#solution": false,
    "#staff": false,
    "#student": false
   },
   "source": [
    "## 1. Monkey Dialing 911 ##\n",
    "\n",
    "Route, a baby Capuchin monkey in Southern California, [managed to call 911](https://www.youtube.com/watch?v=-dzuD5O2CkU) on a cell phone. Nobody is quite sure how Route did this, but let's see what the probabilities look like if we make up some assumptions.\n",
    "\n",
    "**a)** Suppose a cell phone screen has Call button as well as a grid of 12 buttons consisting of \n",
    "\n",
    "- one each for the 10 digits 0 through 9, \n",
    "- the \\* symbol, and \n",
    "- the \\# symbol.\n",
    "\n",
    "Suppose that each time a monkey presses a button on this screen, it has a 70% chance of picking the brightly colored Call button and a 30% chance of picking at a button at random from the other 12 buttons, independent of its choices at all other times. \n",
    "\n",
    "What is the chance that the first four buttons the monkey presses are 9, 1, 1, Call, in that order? Write the arithmetic expression on paper (not in code) and then provide its numerical value. You can use the code cell below, or a calculator, or any such computational device. We will not grade your code."
   ]
  },
  {
   "cell_type": "code",
   "execution_count": null,
   "metadata": {
    "#solution": false,
    "#staff": false,
    "#student": true
   },
   "outputs": [],
   "source": [
    "# Calculation for 1a\n",
    "\n",
    "..."
   ]
  },
  {
   "cell_type": "markdown",
   "metadata": {
    "#solution": false,
    "#staff": false,
    "#student": false
   },
   "source": [
    "**b)** Now suppose each of 500 monkeys has a cell phone screen just like the one in Part **a**, and each monkey presses the buttons under the assumptions of Part **a** independently of all other monkeys. What is the chance that at least one of the 500 monkeys chooses 9, 1, 1, Call (in that order) as the first four buttons to press? As in Part **a**, write the arithmetic expression on paper and then find its numerical value."
   ]
  },
  {
   "cell_type": "code",
   "execution_count": null,
   "metadata": {
    "#solution": false,
    "#staff": false,
    "#student": true
   },
   "outputs": [],
   "source": [
    "# Calculation for 1b\n",
    "\n",
    "..."
   ]
  },
  {
   "cell_type": "markdown",
   "metadata": {
    "#solution": false,
    "#staff": false,
    "#student": false
   },
   "source": [
    "\\newpage"
   ]
  },
  {
   "cell_type": "markdown",
   "metadata": {
    "#solution": false,
    "#staff": false,
    "#student": false
   },
   "source": [
    "## 2. Faces of a Tetrahedron ##\n",
    "\n",
    "A tetrahedron is a regular four-sided figure, like a four-sided die. Assume that when I roll a tetrahedron, each of the four sides is equally likely to appear, independent of all other rolls. \n",
    "\n",
    "Suppose the sides of the tetrahedron are labeled 1, 2, 3, and 4. Define two random variables:\n",
    "\n",
    "- $X$ is the label that I see on the first roll\n",
    "- $D$ is the number of times I roll till I see a label I have seen before\n",
    "\n",
    "For example, if the first few labels are 3, 4, 1, 3, 1, 2, 1 then $X = 3$ and $D = 4$.\n",
    "\n",
    "**a)** What is the distribution of $X$?\n",
    "\n",
    "**b)** What are the possible values of $D$?\n",
    "\n",
    "**c)** Find the distribution of $D$. Remember to explain your answer, and write arithmetic expressions for the probabilities involved. \n",
    "\n",
    "**d)** Find the decimal values of the probabilities in Part **c**. What should their sum be? Check this numerically using a calculator or the code cell below.\n",
    "\n",
    "**e)** What is the most likely value of $D$, and what is its probability?\n",
    "\n",
    "**f)** Find $P(X = 2, D = 3)$. Write it as an arithmetic expression and find its decimal value."
   ]
  },
  {
   "cell_type": "code",
   "execution_count": null,
   "metadata": {
    "#solution": false,
    "#staff": false,
    "#student": true
   },
   "outputs": [],
   "source": [
    "# Calculations in Exercise 2\n",
    "\n",
    "..."
   ]
  },
  {
   "cell_type": "markdown",
   "metadata": {
    "#solution": false,
    "#staff": false,
    "#student": false
   },
   "source": [
    "\\newpage"
   ]
  },
  {
   "cell_type": "markdown",
   "metadata": {
    "#solution": false,
    "#staff": false,
    "#student": false
   },
   "source": [
    "## 3. Counting Cards ##\n",
    "\n",
    "A 5-card poker hand is dealt from a standard deck of cards (with 4 suits, and 13 kinds for each suit (2, 3, 4, 5, 6, 7, 8 , 9, 10, J, Q, K, A). How many distinct ways are there to form a hand with two pairs? \n",
    "\n",
    "A hand consists of five cards. A hand with two pairs has 2 cards of one kind, 2 cards of another kind, and a fifth card of a third kind. An example of a hand with two pairs is a King of $\\heartsuit$, a King of $\\spadesuit$, a 5 of $\\clubsuit$, a 5 of $\\heartsuit$, and a Jack of $\\heartsuit$."
   ]
  },
  {
   "cell_type": "markdown",
   "metadata": {
    "#solution": false,
    "#staff": false,
    "#student": false
   },
   "source": [
    "\\newpage"
   ]
  },
  {
   "cell_type": "markdown",
   "metadata": {
    "#solution": false,
    "#staff": false,
    "#student": false
   },
   "source": [
    "## 4. Detecting Breast Cancer ##\n",
    "\n",
    "A 2011 [article](https://ebm.bmj.com/content/16/6/163) in the British Medical Journal attempts to elucdiate Bayes' Rule for the medical profession. It's well worth reading and has some illuminating graphics. In this exercise you will confirm a result stated in the article. Useful terminology:\n",
    "\n",
    "- The *sensitivity* of a test for a medical condition is the proportion of correctly diagnosed patients among those who have the condition.\n",
    "- The *specificity* of the test is the proportion of correctly diagnosed patients among those who do not have the condition.\n",
    "\n",
    "Read those definitions a couple of times and note that a good test should have high values of both sensitivity and specificity.\n",
    "\n",
    "In the section Special Cases, the authors consider a 45-year-old woman who has a 1% chance of getting breast cancer in the subsequent five years. The article says, \"The sensitivity of routine screening mammography ranges from 71% to 96% and the specificity ranges from 94% to 97%. Using values of 80% for sensitivity and 96% for specificity, a positive test increases the probability to 17%.\"\n",
    "\n",
    "For this problem, show your work in finding each probability and box the final decimal answer.\n",
    "\n",
    "**a)** Use the same values as in the authors' calculation and confirm their result that \"a positive test increases the probability to 17%.\"\n",
    "\n",
    "**b)** Find all of the following; percents are fine too:\n",
    "\n",
    "(i) the chance that the woman won't get breast cancer in the subsequent five years\n",
    "\n",
    "(ii) the chance that the woman won't get breast cancer in the subsequent five years, if her test result is negative\n",
    "\n",
    "(iii) the chance that the woman won't get breast cancer in the subsequent five years, if her test result is positive\n",
    "\n",
    "(iv) the chance that the woman's test result is negative\n",
    "\n",
    "\n",
    "**c)** Suppose a woman went to get tested because she believed she had a 10% chance of getting breast cancer in the subsequent five years. What would be her probability of getting the disease, based on a positive test result? Use a sensitivity value of 80% and a specificity value of 96%."
   ]
  },
  {
   "cell_type": "markdown",
   "metadata": {
    "#solution": false,
    "#staff": false,
    "#student": false
   },
   "source": [
    "## Submission Instructions ##\n",
    "\n",
    "Please follow the directions below to properly submit both portions.\n",
    "\n",
    "### Written Work ###\n",
    "*  Scan all the pages into a PDF. You can use any scanner or a phone using applications such as CamScanner. Please **DO NOT** simply take pictures using your phone. \n",
    "* Please start a new page for each question. If you have already written multiple questions on the same page, you can crop the image in CamScanner or fold your page over (the old-fashioned way). This helps expedite grading.\n",
    "* It is your responsibility to check that all the work on all the scanned pages is legible.\n",
    "    \n",
    "### Submitting ###\n",
    "* Submit the assignment to Homework 3 on Gradescope. \n",
    "* **Make sure to assign each page of your pdf to the correct question.**\n",
    "* **It is your responsibility to verify that all of your work shows up in your final PDF submission.**\n",
    "\n",
    "If you have questions about scanning or uploading your work, please post a follow-up to the Ed thread on [Gradescope Assignment Submission](https://edstem.org/us/courses/35065/discussion/2413516)."
   ]
  },
  {
   "cell_type": "code",
   "execution_count": null,
   "metadata": {
    "#solution": false,
    "#staff": false,
    "#student": false
   },
   "outputs": [],
   "source": []
  }
 ],
 "metadata": {
  "checksums": [
   "6e9d9428dfc4ae0311719cc29f4ab0f8",
   "d81c015fe17ef0f91b778d7089110778",
   "ca466c40003089a428b668a82180c6c6",
   "0946adbe38f9f2c01655990c37fe452f",
   "785435b5a3b8329de5908b575e99ff57",
   "9ff6aebcc8146b47452c5d943df5ac3b",
   "7d53736f6a476f9027d3ae83bc5944ed",
   "62916d45e4328e56adf3f555e71e3bfb",
   "562505d567faf02dfc9388e81e89d07b",
   "50c6b476dfb7d2eef4f544288e55cf84",
   "e71e8497587fb7160828d2562759e76c",
   "562505d567faf02dfc9388e81e89d07b",
   "ccb93e0eddbb7c7cd62a49e1eb39570d",
   "562505d567faf02dfc9388e81e89d07b",
   "543c1235e4e36f9773e4fffc4a6b39b2",
   "004e78651faad88f0dfc0ea53c347cf6",
   "d41d8cd98f00b204e9800998ecf8427e"
  ],
  "kernelspec": {
   "display_name": "Python 3 (ipykernel)",
   "language": "python",
   "name": "python3"
  },
  "language_info": {
   "codemirror_mode": {
    "name": "ipython",
    "version": 3
   },
   "file_extension": ".py",
   "mimetype": "text/x-python",
   "name": "python",
   "nbconvert_exporter": "python",
   "pygments_lexer": "ipython3",
   "version": "3.9.15"
  },
  "number_of_pagebreaks": 0
 },
 "nbformat": 4,
 "nbformat_minor": 4
}
