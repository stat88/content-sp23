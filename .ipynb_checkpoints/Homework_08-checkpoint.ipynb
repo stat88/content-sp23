{
 "cells": [
  {
   "cell_type": "markdown",
   "metadata": {
    "#solution": false,
    "#staff": false,
    "#student": false
   },
   "source": [
    "<table align=\"left\" style=\"border-style: hidden\" class=\"table\"> <tr><td class=\"col-md-2\"><img style=\"float\" src=\"../logo.png\" alt=\"Data 88S Logo\" style=\"width: 120px;\"/></td><td><div align=\"left\"><h3 style=\"margin-top: 0;\">Probability for Data Science</h3><h4 style=\"margin-top: 20px;\">UC Berkeley, Spring 2023</h4><p>Shobhana Stoyanov</p>CC BY-NC 4.0</div></td></tr></table><!-- not in pdf -->\n",
    "\n",
    "This content is protected and may not be shared, uploaded, or distributed."
   ]
  },
  {
   "cell_type": "code",
   "execution_count": null,
   "metadata": {
    "#solution": false,
    "#staff": false,
    "#student": false
   },
   "outputs": [],
   "source": [
    "from datascience import *\n",
    "import numpy as np\n",
    "from scipy import stats"
   ]
  },
  {
   "cell_type": "markdown",
   "metadata": {
    "#solution": false,
    "#staff": false,
    "#student": false
   },
   "source": [
    "# Homework 8 #"
   ]
  },
  {
   "cell_type": "markdown",
   "metadata": {
    "#solution": false,
    "#staff": false,
    "#student": false
   },
   "source": [
    "### Instructions\n",
    "\n",
    "Show your work. Give reasoning. The question isn't always going to ask for it, because we assume that you will provide justification for your answers. Every answer should contain a calculation, reasoning, or diagrams that are clearly labeled to show what's going on.\n",
    "\n",
    "We encourage you to hand-write your answers. Start each question on a separate page. It is your responsibility to ensure that the homework is submitted completely and properly to Gradescope. **Make sure to assign each page of your pdf to the correct question.** Refer to the bottom of the notebook for submission instructions.\n",
    "\n",
    "In some of the problems below, you have to do a numerical calculation in a code cell. All the libraries you might need have been imported for you. Run the import cell at the top before you start the homework."
   ]
  },
  {
   "cell_type": "markdown",
   "metadata": {
    "#solution": false,
    "#staff": false,
    "#student": false
   },
   "source": [
    "## 1. Comparisons ##\n",
    "\n",
    "**a)** Suppose a coin is tossed repeatedly. **Without any calculation** other than obvious conversions between counts and percents, say which (if any) of the following chances is bigger. Explain your answer.\n",
    "\n",
    "- the chance of getting between 40 and 60 heads (that is, 40 through 60) in 100 tosses\n",
    "- the chance of getting between 400 and 600 heads in 1000 tosses\n",
    "\n",
    "**b)** Find the two chances in Part **a**, and then find their numerical values (you can use the code cell below). Check that they are consistent with your answer to **a**.\n",
    "\n",
    "**c)** Roll a die repeatedly. **Without any calculation** other than obvious conversions between counts and percents, say which (if any) of the following chances is bigger. Explain your answer.\n",
    "\n",
    "- the chance that the percent of sixes in $n$ rolls is greater than 20%\n",
    "- the chance that the percent of sixes in $2n$ rolls is greater than 20%\n",
    "\n",
    "**d)** California (population about 40 million) has about twice as many people as New York State (population about 20 million). **Without calculation,** pick the correct option and explain your choice.\n",
    "\n",
    "If the underlying population SDs are equal, a simple random sample of 1000 people in California is\n",
    "\n",
    "- about half as accurate \n",
    "- about $1/\\sqrt{2}$ times as accurate\n",
    "- about as accurate\n",
    "- about $\\sqrt{2}$ times as accurate\n",
    "- about twice as accurate\n",
    "\n",
    "as a simple random sample of 1000 people in New York State."
   ]
  },
  {
   "cell_type": "code",
   "execution_count": null,
   "metadata": {
    "#solution": false,
    "#staff": false,
    "#student": true
   },
   "outputs": [],
   "source": [
    "# Calculations for b\n"
   ]
  },
  {
   "cell_type": "markdown",
   "metadata": {
    "#solution": false,
    "#staff": false,
    "#student": false
   },
   "source": [
    "## 2. Sum and Average ##\n",
    "\n",
    "**a)** A stadium designer has placed 900 seats in one section of the stadium. Assume that the weights of people who will occupy those seats are i.i.d. with a mean of 160 pounds and an SD of 25 pounds. \n",
    "\n",
    "Fill in the blanks with numbers and show your calculation: With chance about 99%, the total weight of people in the 900 seats will be in the range $\\underline{~~~~~~~~~~~~~~~~~~~~~} \\pm \\underline{~~~~~~~~~~~~~~~~~~~~~}$ pounds.\n",
    "\n",
    "You can use the code cell below to get the numerical values."
   ]
  },
  {
   "cell_type": "code",
   "execution_count": null,
   "metadata": {
    "#solution": false,
    "#staff": false,
    "#student": true
   },
   "outputs": [],
   "source": [
    "# Calculations for a\n"
   ]
  },
  {
   "cell_type": "markdown",
   "metadata": {
    "#solution": false,
    "#staff": false,
    "#student": false
   },
   "source": [
    "**b)** A state has millions of households. The average annual income of the households is 78,000 dollars and the SD is 40,000 dollars. \n",
    "\n",
    "Fill in the blank with a number and show your calculation:\n",
    "\n",
    "There is about a 95% chance that the average annual income of a simple random sample of 625 families drawn from is state is more than $\\underline{~~~~~~~~~~~~~~~~~~~~}$ dollars.\n",
    "\n",
    "You can use the code cell below to get the numerical values."
   ]
  },
  {
   "cell_type": "code",
   "execution_count": null,
   "metadata": {
    "#solution": false,
    "#staff": false,
    "#student": true
   },
   "outputs": [],
   "source": [
    "# Calculations for b\n"
   ]
  },
  {
   "cell_type": "markdown",
   "metadata": {
    "#solution": false,
    "#staff": false,
    "#student": false,
    "slideshow": {
     "slide_type": "slide"
    }
   },
   "source": [
    "## 3. Phone Calls ##\n",
    "\n",
    "The lengths of phone calls to the receptionist of a small company are i.i.d. with a mean of 5 minutes and an SD of 8 minutes.\n",
    "\n",
    "**a)** Find or approximate the chance that the total length of the next 250 calls is less than 20 hours.\n",
    "\n",
    "**b)** Suppose you draw a histogram of the lengths of the next 250 calls. Is the histogram likely to look roughly normal? Why or why not?\n",
    "\n",
    "**c)** Did you use the normal curve in your calculation in **a**? If so, which of the following did the curve approximate and why? Pick one and explain.\n",
    "\n",
    "- the distribution of the lengths of the next 250 calls\n",
    "- the probability distribution of the total length of the next 250 calls\n",
    "- the probability distribution of the total length of the next $n$ calls as $n$ gets larger and larger"
   ]
  },
  {
   "cell_type": "code",
   "execution_count": null,
   "metadata": {
    "#solution": false,
    "#staff": false,
    "#student": true
   },
   "outputs": [],
   "source": [
    "# Calculations for a\n"
   ]
  },
  {
   "cell_type": "markdown",
   "metadata": {
    "#solution": false,
    "#staff": false,
    "#student": false
   },
   "source": [
    "## Submission Instructions ##\n",
    "\n",
    "Please follow the directions below to properly submit your work.\n",
    "\n",
    "### Written Work ###\n",
    "*  Scan all the pages into a PDF. You can use any scanner or a phone using applications such as CamScanner. Please **DO NOT** simply take pictures using your phone. \n",
    "* Please start a new page for each question. If you have already written multiple questions on the same page, you can crop the image in CamScanner or fold your page over (the old-fashioned way). This helps expedite grading.\n",
    "* It is your responsibility to check that all the work on all the scanned pages is legible.\n",
    "    \n",
    "### Submitting ###\n",
    "* Submit the assignment to Homework 8 on Gradescope. \n",
    "* **Make sure to assign each page of your pdf to the correct question.**\n",
    "* **It is your responsibility to verify that all of your work shows up in your final PDF submission.**\n",
    "\n",
    "If you have questions about scanning or uploading your work, please post a follow-up to the Ed thread on [Gradescope Assignment Submission](https://edstem.org/us/courses/35065/discussion/2413516)."
   ]
  },
  {
   "cell_type": "code",
   "execution_count": null,
   "metadata": {
    "#solution": false,
    "#staff": false,
    "#student": false
   },
   "outputs": [],
   "source": []
  }
 ],
 "metadata": {
  "checksums": [
   "6e9d9428dfc4ae0311719cc29f4ab0f8",
   "d81c015fe17ef0f91b778d7089110778",
   "4ee85b316530863bdb4d44d6f0b01646",
   "7b5757edfe3a21b1f7fefbe136ea41da",
   "1aa28f0535924d1552cb7ce0ab8d9335",
   "780aa6e871823bc7ab1b99e05c99ca6d",
   "8c7df99bd7d24c92cbca8d937cb23886",
   "1525f38ffd3a7d1f8111338ce738fca0",
   "2b9060b9761efb89353553d452c1ac7b",
   "780aa6e871823bc7ab1b99e05c99ca6d",
   "7d753222478a971c8cd5eb25d97b143a",
   "1525f38ffd3a7d1f8111338ce738fca0",
   "e00ab9dcc6f85e96feea4b2cd1a3a9b6",
   "d41d8cd98f00b204e9800998ecf8427e"
  ],
  "kernelspec": {
   "display_name": "Python 3 (ipykernel)",
   "language": "python",
   "name": "python3"
  },
  "language_info": {
   "codemirror_mode": {
    "name": "ipython",
    "version": 3
   },
   "file_extension": ".py",
   "mimetype": "text/x-python",
   "name": "python",
   "nbconvert_exporter": "python",
   "pygments_lexer": "ipython3",
   "version": "3.9.15"
  },
  "number_of_pagebreaks": 0
 },
 "nbformat": 4,
 "nbformat_minor": 2
}
