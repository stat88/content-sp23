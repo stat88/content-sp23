{
 "cells": [
  {
   "cell_type": "markdown",
   "metadata": {
    "#solution": false,
    "#staff": false,
    "#student": false
   },
   "source": [
    "<table align=\"left\" style=\"border-style: hidden\" class=\"table\"> <tr><td class=\"col-md-2\"><img style=\"float\" src=\"../logo.png\" alt=\"Data 88S Logo\" style=\"width: 120px;\"/></td><td><div align=\"left\"><h3 style=\"margin-top: 0;\">Probability for Data Science</h3><h4 style=\"margin-top: 20px;\">UC Berkeley, Spring 2023</h4><p>Shobhana Stoyanov</p>CC BY-NC 4.0</div></td></tr></table><!-- not in pdf -->\n",
    "\n",
    "This content is protected and may not be shared, uploaded, or distributed."
   ]
  },
  {
   "cell_type": "markdown",
   "metadata": {
    "#solution": false,
    "#staff": false,
    "#student": false
   },
   "source": [
    "# Homework 7 #"
   ]
  },
  {
   "cell_type": "markdown",
   "metadata": {
    "#solution": false,
    "#staff": false,
    "#student": false
   },
   "source": [
    "### Instructions\n",
    "\n",
    "Show your work. Give reasoning. The question isn't always going to ask for it, because we assume that you will provide justification for your answers. Every answer should contain a calculation, reasoning, or diagrams that are clearly labeled to show what's going on.\n",
    "\n",
    "We encourage you to hand-write your answers. Start each question on a separate page. It is your responsibility to ensure that the homework is submitted completely and properly to Gradescope. **Make sure to assign each page of your pdf to the correct question.** Refer to the bottom of the notebook for submission instructions.\n",
    "\n",
    "In some of the problems below, you have to do a numerical calculation in a code cell. All the libraries you might need have been imported for you. Run the import cell at the top before you start the homework."
   ]
  },
  {
   "cell_type": "markdown",
   "metadata": {
    "#solution": false,
    "#staff": false,
    "#student": false
   },
   "source": [
    "## 1. Folding Over ##\n",
    "\n",
    "Let $X$ have the distribution given by\n",
    "\n",
    "|$~~~~~~~~~~~~ x$| $-2$ | $-1$ | $0$ | $1$ | $2$ |\n",
    "|---------------:|:---:|:---:|:---:|:---:|:---:|\n",
    "|$P(X = x)$| $0.15$ | $0.2$ | $0.3$ | $0.2$ | $0.15$ |\n",
    "\n",
    "**a)** Sketch (by hand) the probability histogram of $X$ by centering a bar of width 1 over each possible value of $X$. Find $E(X)$ and mark it on the horizontal axis.\n",
    "\n",
    "**b)** Find $SD(X)$. \n",
    "\n",
    "**c)** Sketch (by hand) the probability histogram of $\\vert X \\vert$ by centering a bar of width 1 over each possible value of $\\vert X \\vert$. Find $E(\\vert X \\vert)$ and mark it on the horizontal axis.\n",
    "\n",
    "**d)** Find $SD(\\vert X \\vert)$. "
   ]
  },
  {
   "cell_type": "markdown",
   "metadata": {
    "#solution": false,
    "#staff": false,
    "#student": false
   },
   "source": [
    "## 2. Great Snipe Migrations ##\n",
    "\n",
    "The [great snipe](https://en.wikipedia.org/wiki/Great_snipe) is a small bird that migrates by making nonstop flights between Sweden and Africa every year. Assume that the average migration length in a population of great snipes is 3000 miles (for context, this is about the distance you'd travel on Interstate 80 if you drove from San Francisco to New York).\n",
    "\n",
    "Let $L$ be the migration length of a great snipe chosen at random from this population.\n",
    "\n",
    "**a)** Say you're wondering if this great snipe would be able to travel from Los Angeles to Barcelona, which are about 6000 miles apart. If possible, find $P(L \\ge 6000)$. If it's not possible, explain why, and find the best upper bound possible based on the information provided.\n",
    "\n",
    "**b)** Suppose you now find out from [this journal paper](https://nora.nerc.ac.uk/id/eprint/512131/1/migration%20of%20the%20great%20snipe%20AAM.pdf) that tracked some birds' migrations using geolocators that the standard deviation of the migration distances is 600 miles. What can you say about $P(1800 < L < 4200)$?"
   ]
  },
  {
   "cell_type": "markdown",
   "metadata": {
    "#solution": false,
    "#staff": false,
    "#student": false
   },
   "source": [
    "## 3. Stuck in Traffic ##\n",
    "\n",
    "The duration of a campus worker's commute (measured in minutes) is a random variable $T$ such that $E(T) = 40$ and $SD(T) = 15$.\n",
    "\n",
    "**a)** Find the best upper bound you can on $P(T \\ge 90)$.\n",
    "\n",
    "**b)** Find the smallest $t$ you can so that $P(T < t) \\ge 99\\%$."
   ]
  },
  {
   "cell_type": "markdown",
   "metadata": {
    "#solution": false,
    "#staff": false,
    "#student": false
   },
   "source": [
    "## 4. Guessing on a Test ##\n",
    "The designers of a true-false test would like to find out how a student would perform if the student just guessed all the answers at random. (Designers of multiple-choice tests like the SAT have to consider this issue as well.)\n",
    "\n",
    "There are 100 questions on the test. One point is awarded for each correct answer and 1 point is taken away for any other kind of answer (wrong, missing, ambiguous, or anything other than correct).\n",
    "\n",
    "For each question, the student guesses by flipping a fair coin and picking \"true\" if the coins lands heads and picking \"false\" if the coin lands tails.\n",
    "\n",
    "**a)** Let $W$ be the number of questions the student does not get right. Find $E(W)$ and $SD(W)$.\n",
    "\n",
    "**b)** Let $S$ be the student's score on the test. Find $E(S)$ and $SD(S)$."
   ]
  },
  {
   "cell_type": "markdown",
   "metadata": {
    "#solution": false,
    "#staff": false,
    "#student": false
   },
   "source": [
    "## Submission Instructions ##\n",
    "\n",
    "Please follow the directions below to properly submit your work.\n",
    "\n",
    "### Written Work ###\n",
    "*  Scan all the pages into a PDF. You can use any scanner or a phone using applications such as CamScanner. Please **DO NOT** simply take pictures using your phone. \n",
    "* Please start a new page for each question. If you have already written multiple questions on the same page, you can crop the image in CamScanner or fold your page over (the old-fashioned way). This helps expedite grading.\n",
    "* It is your responsibility to check that all the work on all the scanned pages is legible.\n",
    "    \n",
    "### Submitting ###\n",
    "* Submit the assignment to Homework 7 on Gradescope. \n",
    "* **Make sure to assign each page of your pdf to the correct question.**\n",
    "* **It is your responsibility to verify that all of your work shows up in your final PDF submission.**\n",
    "\n",
    "If you have questions about scanning or uploading your work, please post a follow-up to the Ed thread on [Gradescope Assignment Submission](https://edstem.org/us/courses/35065/discussion/2413516)."
   ]
  },
  {
   "cell_type": "code",
   "execution_count": null,
   "metadata": {
    "#solution": false,
    "#staff": false,
    "#student": false
   },
   "outputs": [],
   "source": []
  }
 ],
 "metadata": {
  "checksums": [
   "6e9d9428dfc4ae0311719cc29f4ab0f8",
   "90cd0ce50c5c3667f81adb0d6dac6797",
   "7b5757edfe3a21b1f7fefbe136ea41da",
   "673222fb50745eb50c5906230ac3edc7",
   "8b7cc8a6608158c0513482366dffdccc",
   "02e7d5279e18eb022178158f98203a3f",
   "7b460565eb110ef49a040699dc592736",
   "61613e40227f5c3617d1044fc145becd",
   "d41d8cd98f00b204e9800998ecf8427e"
  ],
  "kernelspec": {
   "display_name": "Python 3 (ipykernel)",
   "language": "python",
   "name": "python3"
  },
  "language_info": {
   "codemirror_mode": {
    "name": "ipython",
    "version": 3
   },
   "file_extension": ".py",
   "mimetype": "text/x-python",
   "name": "python",
   "nbconvert_exporter": "python",
   "pygments_lexer": "ipython3",
   "version": "3.9.15"
  },
  "number_of_pagebreaks": 0
 },
 "nbformat": 4,
 "nbformat_minor": 2
}
