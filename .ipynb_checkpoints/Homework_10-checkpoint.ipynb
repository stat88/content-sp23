{
 "cells": [
  {
   "cell_type": "markdown",
   "metadata": {
    "#solution": false,
    "#staff": false,
    "#student": false
   },
   "source": [
    "<table align=\"left\" style=\"border-style: hidden\" class=\"table\"> <tr><td class=\"col-md-2\"><img style=\"float\" src=\"logo.png\" alt=\"Data 88S Logo\" style=\"width: 120px;\"/></td><td><div align=\"left\"><h3 style=\"margin-top: 0;\">Probability for Data Science</h3><h4 style=\"margin-top: 20px;\">UC Berkeley, Spring 2023</h4><p>Shobhana Stoyanov</p>CC BY-NC 4.0</div></td></tr></table><!-- not in pdf -->\n",
    "\n",
    "This content is protected and may not be shared, uploaded, or distributed."
   ]
  },
  {
   "cell_type": "code",
   "execution_count": null,
   "metadata": {
    "#solution": false,
    "#staff": false,
    "#student": false
   },
   "outputs": [],
   "source": [
    "from datascience import *\n",
    "import numpy as np\n",
    "from scipy import stats"
   ]
  },
  {
   "cell_type": "markdown",
   "metadata": {
    "#solution": false,
    "#staff": false,
    "#student": false
   },
   "source": [
    "# Homework 9 #"
   ]
  },
  {
   "cell_type": "markdown",
   "metadata": {
    "#solution": false,
    "#staff": false,
    "#student": false
   },
   "source": [
    "### Instructions\n",
    "\n",
    "Show your work. Give reasoning. The question isn't always going to ask for it, because we assume that you will provide justification for your answers. Every answer should contain a calculation, reasoning, or diagrams that are clearly labeled to show what's going on.\n",
    "\n",
    "We encourage you to hand-write your answers. Start each question on a separate page. It is your responsibility to ensure that the homework is submitted completely and properly to Gradescope. **Make sure to assign each page of your pdf to the correct question.** Refer to the bottom of the notebook for submission instructions.\n",
    "\n",
    "In some of the problems below, you have to do a numerical calculation in a code cell. All the libraries you might need have been imported for you. Run the import cell at the top before you start the homework."
   ]
  },
  {
   "cell_type": "markdown",
   "metadata": {
    "#solution": false,
    "#staff": false,
    "#student": false
   },
   "source": [
    "## 1. Taste Test ##\n",
    "\n",
    "A student claims to be able to distinguish the taste of Cal Blue coffee from Cal Gold coffee, even though his friends say the two coffees are the same in appearance, aroma, and taste. The student agrees to take a blind taste test consisting of 10 trials as follows.\n",
    "\n",
    "On each trial, the student is given two identical unmarked cups (small ones!), one containing Cal Blue and the other containing Cal Gold. He is not told which is which. He has to drink the contents and say which one is Cal Blue.\n",
    "\n",
    "The student picks correctly on seven out of the 10 trials. He says that his friends now have to accept his claim. His friends say they will do no such thing because he could just have been guessing at random. \n",
    "\n",
    "Decide which position is better supported by the data, in the following steps.\n",
    "\n",
    "**a)** State an appropriate null hypothesis in non-technical terms and also as a set of assumptions about random variables.\n",
    "\n",
    "**b)** State an appropriate alternative hypothesis.\n",
    "\n",
    "**c)** What test statistic are you going to use? Justify your choice.\n",
    "\n",
    "**d)** Find an exact or approximate $p$-value, and then find its numerical value. You can use the code cell below.\n",
    "\n",
    "**e)** At the 5% level, what is the conlcusion of the test? Why?"
   ]
  },
  {
   "cell_type": "code",
   "execution_count": null,
   "metadata": {
    "#solution": false,
    "#staff": false,
    "#student": true
   },
   "outputs": [],
   "source": [
    "# For calculating the numerical value of your expression \n",
    "# for the p-value in e.\n",
    "\n",
    "..."
   ]
  },
  {
   "cell_type": "markdown",
   "metadata": {
    "#solution": false,
    "#staff": false,
    "#student": false
   },
   "source": [
    "## 2. Reading Test ##\n",
    "\n",
    "In 2017, the average reading score of the fourth graders in the United States was 222 points. In a simple random sample of 16,000 fourth graders taken nationally in 2019, the average reading score is 221 and the SD is 40 points. \n",
    "\n",
    "Is the national average reading score for fourth graders in 2019 different from what it was in 2017? Or is the observed difference just chance variation? Perform a test of hypotheses to answer the question, in the following steps.\n",
    "\n",
    "**a)** State an appropriate null hypothesis in non-technical terms and also as a set of assumptions about random variables.\n",
    "\n",
    "**b)** State an appropriate alternative hypothesis.\n",
    "\n",
    "**c)** What test statistic are you going to use? Justify your choice.\n",
    "\n",
    "**d)** Find an exact or approximate $p$-value, and then find its numerical value. You can use the code cell below.\n",
    "\n",
    "**e)** At the 5% level, what is the conclusion of the test? Why?"
   ]
  },
  {
   "cell_type": "code",
   "execution_count": null,
   "metadata": {
    "#solution": false,
    "#staff": false,
    "#student": true
   },
   "outputs": [],
   "source": [
    "# For calculating the numerical value of your expression \n",
    "# for the p-value in e.\n",
    "\n",
    "..."
   ]
  },
  {
   "cell_type": "markdown",
   "metadata": {
    "#solution": false,
    "#staff": false,
    "#student": false
   },
   "source": [
    "## 3. Repeated Testing ##\n",
    "\n",
    "There are 210 students in Stat 88. As an exercise, each of them tests the fairness of the same coin. Each student tests the hypothesis \n",
    "\n",
    "$H_0$: The coin is fair \n",
    "\n",
    "versus \n",
    "\n",
    "$H_A$: The coin is not fair \n",
    "\n",
    "at the 5% level. \n",
    "\n",
    "Suppose the coin is in fact fair, though the students don't know it. \n",
    "\n",
    "If possible, say which of the three figures below is the probability histogram of the number of students whose test concludes that the coin is unfair and explain your selection.\n",
    "\n",
    "If this is not possible, explain why not.\n",
    "\n",
    "Figure 1 | Figure 2 | Figure 3\n",
    ":-:|:-:|:-:\n",
    "<img src=\"hw9_q3_plot1.png\" alt=\"Drawing\" style=\"width: 400px;\"/> | <img src=\"hw9_q3_plot2.png\" alt=\"Drawing\" style=\"width: 400px;\"/> | <img src=\"hw9_q3_plot3.png\" alt=\"Drawing\" style=\"width: 400px;\"/>"
   ]
  },
  {
   "cell_type": "markdown",
   "metadata": {
    "#solution": false,
    "#staff": false,
    "#student": false
   },
   "source": [
    "## 4. Working with Densities ##\n",
    "\n",
    "Let $X$ have density given by\n",
    "\n",
    "$$\n",
    "f(x) ~ = ~ \n",
    "\\begin{cases}\n",
    "c(1-x^2) ~~~ -1 < x < 1 \\\\\n",
    "0 ~~~~~~~~~~~~~~ \\text{ otherwise.}\n",
    "\\end{cases}\n",
    "$$\n",
    "\n",
    "Here $c$ is a constant. \n",
    "\n",
    "**a)** Sketch (by hand) a graph of the density. It's a good idea to start by finding the values of $f$ at $x = \\pm 1$, $0$, and $\\pm 0.5$.\n",
    "\n",
    "Now find each of the following, and use a code cell if necessary to provide the numerical values as well.\n",
    "\n",
    "**b)** $c$"
   ]
  },
  {
   "cell_type": "markdown",
   "metadata": {
    "#solution": false,
    "#staff": false,
    "#student": false
   },
   "source": [
    "## Submission Instructions ##\n",
    "\n",
    "Please follow the directions below to properly submit your work.\n",
    "\n",
    "### Written Work ###\n",
    "*  Scan all the pages into a PDF. You can use any scanner or a phone using applications such as CamScanner. Please **DO NOT** simply take pictures using your phone. \n",
    "* Please start a new page for each question. If you have already written multiple questions on the same page, you can crop the image in CamScanner or fold your page over (the old-fashioned way). This helps expedite grading.\n",
    "* It is your responsibility to check that all the work on all the scanned pages is legible.\n",
    "    \n",
    "### Submitting ###\n",
    "* Submit the assignment to Homework 9 on Gradescope. \n",
    "* **Make sure to assign each page of your pdf to the correct question.**\n",
    "* **It is your responsibility to verify that all of your work shows up in your final PDF submission.**\n",
    "\n",
    "If you have questions about scanning or uploading your work, please post a follow-up to the Ed thread on [Gradescope Assignment Submission](https://edstem.org/us/courses/35065/discussion/2413516)."
   ]
  },
  {
   "cell_type": "code",
   "execution_count": null,
   "metadata": {
    "#solution": false,
    "#staff": false,
    "#student": false
   },
   "outputs": [],
   "source": []
  }
 ],
 "metadata": {
  "checksums": [
   "6e9d9428dfc4ae0311719cc29f4ab0f8",
   "d81c015fe17ef0f91b778d7089110778",
   "2ab93f815600c8cf44e713b3d83b659b",
   "7b5757edfe3a21b1f7fefbe136ea41da",
   "b367b4b398a791a10033b49d1b7855fa",
   "a3ecdb203b902d58e4fcf64e11a77b7c",
   "26884eb1e76db8f23015fddfbf6dbb0c",
   "a3ecdb203b902d58e4fcf64e11a77b7c",
   "ef89436c12df63746578160286746674",
   "88ab3f59c401b963b196b04d6850e677",
   "ff7c763b1e1f1f736f8d4fa123847b0d",
   "d41d8cd98f00b204e9800998ecf8427e"
  ],
  "kernelspec": {
   "display_name": "Python 3 (ipykernel)",
   "language": "python",
   "name": "python3"
  },
  "language_info": {
   "codemirror_mode": {
    "name": "ipython",
    "version": 3
   },
   "file_extension": ".py",
   "mimetype": "text/x-python",
   "name": "python",
   "nbconvert_exporter": "python",
   "pygments_lexer": "ipython3",
   "version": "3.9.15"
  },
  "number_of_pagebreaks": 0
 },
 "nbformat": 4,
 "nbformat_minor": 2
}
