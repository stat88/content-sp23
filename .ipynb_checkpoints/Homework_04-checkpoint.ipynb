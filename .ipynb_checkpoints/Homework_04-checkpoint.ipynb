{
 "cells": [
  {
   "cell_type": "markdown",
   "metadata": {
    "#solution": false,
    "#staff": false,
    "#student": false,
    "tags": []
   },
   "source": [
    "<table align=\"left\" style=\"border-style: hidden\" class=\"table\"> <tr><td class=\"col-md-2\"><img style=\"float\" src=\"../logo.png\" alt=\"Data 88S Logo\" style=\"width: 120px;\"/></td><td><div align=\"left\"><h3 style=\"margin-top: 0;\">Probability for Data Science</h3><h4 style=\"margin-top: 20px;\">UC Berkeley, Spring 2023</h4><p>Shobhana Stoyanov</p>CC BY-NC 4.0</div></td></tr></table><!-- not in pdf -->\n",
    "\n",
    "This content is protected and may not be shared, uploaded, or distributed."
   ]
  },
  {
   "cell_type": "code",
   "execution_count": null,
   "metadata": {
    "#solution": false,
    "#staff": false,
    "#student": false
   },
   "outputs": [],
   "source": [
    "from datascience import *\n",
    "import numpy as np\n",
    "from scipy import stats"
   ]
  },
  {
   "cell_type": "markdown",
   "metadata": {
    "#solution": false,
    "#staff": false,
    "#student": false
   },
   "source": [
    "# Homework 4 #"
   ]
  },
  {
   "cell_type": "markdown",
   "metadata": {
    "#solution": false,
    "#staff": false,
    "#student": false
   },
   "source": [
    "### Instructions\n",
    "\n",
    "Show your work. Give reasoning. The question isn't always going to ask for it, because we assume that you will provide justification for your answers (you won't get credit without it). Every answer should contain a calculation, reasoning, or diagrams that are clearly labeled to show what's going on.\n",
    "\n",
    "We encourage you to hand-write your answers. Start each question on a separate page. It is your responsibility to ensure that the homework is submitted completely and properly to Gradescope. **Make sure to assign each page of your pdf to the correct question.** Refer to the bottom of the notebook for submission instructions.\n",
    "\n",
    "In some of the problems below, you have to do a numerical calculation in a code cell. All the libraries you might need have been imported for you. Run the import cell at the top before you start the homework."
   ]
  },
  {
   "cell_type": "markdown",
   "metadata": {
    "#solution": false,
    "#staff": false,
    "#student": false
   },
   "source": [
    "## 1. Thoughtful Politicians ##\n",
    "\n",
    "[This problem setting is due to [Prof. James Norris](https://www.maths.cam.ac.uk/person/jrn10) of Cambridge University.]\n",
    "\n",
    "In a group of 100 politicians, 40 are in Party I and 60 are in Party II. Members of Party I are incapable of changing their minds about anything. Members of Party II change their minds completely randomly every day, independently of all others and also independently of all evidence.\n",
    "\n",
    "Tomorrow, the politicians are going to vote on Proposition 88. Here is a summary of their opinions today.\n",
    "\n",
    "Of the 40 members in Party I, 25 are in favor of Prop 88 and 15 are against.\n",
    "Of the 60 members in Party II, 10 are in favor and 50 are against.\n",
    "Assume that each member in Party II changes their mind based on the toss of a coin: if it lands heads they switch to the opposite opinion and if it lands tails they don't change their mind.\n",
    "\n",
    "**a)** What is the distribution of the number of members in Party II who will favor Prop 88 tomorrow? In what way, if any, does it depend on the information given about the opinions of Party II members today?\n",
    "\n",
    "**b)** Write a math expression for the chance that a majority (more than 50) of the 100 politicians favor Prop 88 tomorrow. Use the code cell below to compute it and provide the final numerical answer on paper along with your math expression."
   ]
  },
  {
   "cell_type": "code",
   "execution_count": null,
   "metadata": {
    "#solution": false,
    "#staff": false,
    "#student": true
   },
   "outputs": [],
   "source": [
    "# Calculation for 1b\n",
    "\n",
    "..."
   ]
  },
  {
   "cell_type": "markdown",
   "metadata": {
    "#solution": false,
    "#staff": false,
    "#student": false
   },
   "source": [
    "## 2. Treatment and Control ##\n",
    "\n",
    "A randomized controlled experiment has 50 participants, of whom 20 are women. A simple random sample of 25 participants is assigned to the treatment group and the remainder to the control group.\n",
    "\n",
    "**a)** Say whether the following statement is true or false. If it is true, provide a math expression for the chance. If it is false, provide math expressions for the two chances.\n",
    "\n",
    "$P(\\text{the treatment group has 16 women}) ~ = ~ P(\\text{the control group has 16 women})$\n",
    "\n",
    "**b)** Say whether the following statement is true or false, and justify your answer.\n",
    "\n",
    "The event \"the treatment group has 16 women\" is independent of the event \"the control group has 16 women\".\n",
    "\n",
    "**c)** Write a math expression for the chance that there are at least six women in each group.\n",
    "\n",
    "[*Hint:* This can be done by just thinking about the women in one of the groups. Any other way will prove quite a bit harder.]"
   ]
  },
  {
   "cell_type": "markdown",
   "metadata": {
    "#solution": false,
    "#staff": false,
    "#student": false
   },
   "source": [
    "\\newpage"
   ]
  },
  {
   "cell_type": "markdown",
   "metadata": {
    "#solution": false,
    "#staff": false,
    "#student": false
   },
   "source": [
    "## 3. Using a CDF\n",
    "The figure below shows the graph of a function $F$ which is the cumulative distribution function (cdf) of a random variable $X$. \n",
    "\n",
    "![cdf](hw4_q3_graph.png)\n",
    "\n",
    "**a)** Make a distribution table for $X$.\n",
    "\n",
    "**b)** Find $P(\\vert X - 1 \\vert \\le 1)$.\n",
    "\n",
    "**c)** Find $P((X-1)(X-3) = 0)$."
   ]
  },
  {
   "cell_type": "markdown",
   "metadata": {
    "#solution": false,
    "#staff": false,
    "#student": false
   },
   "source": [
    "\\newpage"
   ]
  },
  {
   "cell_type": "markdown",
   "metadata": {
    "#solution": false,
    "#staff": false,
    "#student": false
   },
   "source": [
    "## 4. Can this Problem Die\n",
    "A die is rolled 24 times. Let $X$ be the number of fives in the first 16 rolls and let $Y$ be the number of fives in all 24 rolls. \n",
    "\n",
    "**a)** What distribution does $X$ follow?\n",
    "\n",
    "**b)** What distribution does $Y$ follow?\n",
    "\n",
    "**c)** For what values of $x$ is $P(X = x, Y = 4)$ nonzero?\n",
    "\n",
    "**d)** For the values of $x$ in the range you found in part (c), find $P(X = x, Y = 4)$.\n",
    "\n",
    "**e)** For the values of $x$ in the range you found in part (c), find $P(X = x|Y = 4)$."
   ]
  },
  {
   "cell_type": "markdown",
   "metadata": {
    "#solution": false,
    "#staff": false,
    "#student": false
   },
   "source": [
    "## Submission Instructions ##\n",
    "\n",
    "Please follow the directions below to properly submit your work.\n",
    "\n",
    "### Written Work ###\n",
    "*  Scan all the pages into a PDF. You can use any scanner or a phone using applications such as CamScanner. Please **DO NOT** simply take pictures using your phone. \n",
    "* Please start a new page for each question. If you have already written multiple questions on the same page, you can crop the image in CamScanner or fold your page over (the old-fashioned way). This helps expedite grading.\n",
    "* It is your responsibility to check that all the work on all the scanned pages is legible.\n",
    "    \n",
    "### Submitting ###\n",
    "* Submit the assignment to Homework 4 on Gradescope. \n",
    "* **Make sure to assign each page of your pdf to the correct question.**\n",
    "* **It is your responsibility to verify that all of your work shows up in your final PDF submission.**\n",
    "\n",
    "If you have questions about scanning or uploading your work, please post a follow-up to the Ed thread on [Gradescope Assignment Submission](https://edstem.org/us/courses/35065/discussion/2413516)."
   ]
  },
  {
   "cell_type": "code",
   "execution_count": null,
   "metadata": {
    "#solution": false,
    "#staff": false,
    "#student": false
   },
   "outputs": [],
   "source": []
  }
 ],
 "metadata": {
  "checksums": [
   "6e9d9428dfc4ae0311719cc29f4ab0f8",
   "d81c015fe17ef0f91b778d7089110778",
   "996208cdfd34f4af0d96d183afb43c47",
   "bf623e2dab60dd3e32f577e79b5c5eaf",
   "7c121d13508223d7edd522a1aadb1907",
   "62916d45e4328e56adf3f555e71e3bfb",
   "d49e66d54d493bf6297f277598b44ab5",
   "562505d567faf02dfc9388e81e89d07b",
   "5ff6dd4e68636f5c69ab1dbff7026dc1",
   "562505d567faf02dfc9388e81e89d07b",
   "9252b8229e5d7088b06f44025404b2c8",
   "7616807fc716aff173f59d67ecbd68b6",
   "d41d8cd98f00b204e9800998ecf8427e"
  ],
  "kernelspec": {
   "display_name": "Python 3 (ipykernel)",
   "language": "python",
   "name": "python3"
  },
  "language_info": {
   "codemirror_mode": {
    "name": "ipython",
    "version": 3
   },
   "file_extension": ".py",
   "mimetype": "text/x-python",
   "name": "python",
   "nbconvert_exporter": "python",
   "pygments_lexer": "ipython3",
   "version": "3.9.15"
  },
  "number_of_pagebreaks": 0
 },
 "nbformat": 4,
 "nbformat_minor": 4
}
