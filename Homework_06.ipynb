{
 "cells": [
  {
   "cell_type": "markdown",
   "id": "aa2ba279-d3e7-44e6-bfa6-f4267e456af6",
   "metadata": {
    "#solution": false,
    "#staff": false,
    "#student": false
   },
   "source": [
    "<table align=\"left\" style=\"border-style: hidden\" class=\"table\"> <tr><td class=\"col-md-2\"><img style=\"float\" src=\"../logo.png\" alt=\"Data 88S Logo\" style=\"width: 120px;\"/></td><td><div align=\"left\"><h3 style=\"margin-top: 0;\">Probability for Data Science</h3><h4 style=\"margin-top: 20px;\">UC Berkeley, Spring 2023</h4><p>Shobhana Stoyanov</p>CC BY-NC 4.0</div></td></tr></table><!-- not in pdf -->\n",
    "\n",
    "This content is protected and may not be shared, uploaded, or distributed."
   ]
  },
  {
   "cell_type": "markdown",
   "id": "962f6f62-fa8e-4e4d-be02-ef503e919c44",
   "metadata": {
    "#solution": false,
    "#staff": false,
    "#student": false
   },
   "source": [
    "# Homework 6"
   ]
  },
  {
   "cell_type": "markdown",
   "id": "9ad46a43-0986-48b1-b7e0-a763b6e546e7",
   "metadata": {
    "#solution": false,
    "#staff": false,
    "#student": false,
    "tags": []
   },
   "source": [
    "### Instructions\n",
    "\n",
    "Show your work. Give reasoning. The question isn't always going to ask for it, because we assume that you will provide justification for your answers. Every answer should contain a calculation, reasoning, or diagrams that are clearly labeled to show what's going on.\n",
    "\n",
    "We encourage you to hand-write your answers. Start each question on a separate page. It is your responsibility to ensure that the homework is submitted completely and properly to Gradescope. **Make sure to assign each page of your pdf to the correct question.** Refer to the bottom of the notebook for submission instructions.\n",
    "\n",
    "In some of the problems below, you have to do a numerical calculation in a code cell. All the libraries you might need have been imported for you. Run the import cell at the top before you start the homework."
   ]
  },
  {
   "cell_type": "markdown",
   "id": "41ea886a-ae7c-494c-bb08-2aaeb325a118",
   "metadata": {
    "#solution": false,
    "#staff": false,
    "#student": false
   },
   "source": [
    "## 1. Ice Cream Truck ##\n",
    "\n",
    "An ice cream truck has ten different flavors of popsicles. Suppose $n$ customers each pick a flavor at random, independently of the choices of others. In each part below, find the expectation of the described random variable.\n",
    "\n",
    "**a)** the number of flavors that are not picked\n",
    "\n",
    "**b)** the number of flavors that are picked\n",
    "\n",
    "**c)** the number of flavors that are picked by more than one customer"
   ]
  },
  {
   "cell_type": "markdown",
   "id": "14eb1daf",
   "metadata": {
    "#solution": false,
    "#staff": false,
    "#student": false
   },
   "source": [
    "\\newpage"
   ]
  },
  {
   "cell_type": "markdown",
   "id": "0343875f-c80e-4552-9b76-189499a43dc9",
   "metadata": {
    "#solution": false,
    "#staff": false,
    "#student": false
   },
   "source": [
    "## 2. Randomized Response ##\n",
    "Survey respondents understandably don't like to answer questions about sensitive topics such as illegal drug use. If data scientists want to estimate the proportion of illegal drug users in a population, they have to devise methods of getting the information they need while maintaining the privacy of the individual respondents.\n",
    "\n",
    "*Randomized response* schemes are often used in such situations. In one such scheme, each surveyed person is given a coin and asked to answer YES or NO after following these instructions out of sight of the surveyor:\n",
    "\n",
    "- Toss the coin.\n",
    "    - If it lands heads, then truthfully answer, \"Do you use illegal drugs?\"\n",
    "    - If it lands tails, then toss it again and answer, \"Did the second toss land heads?\"\n",
    "\n",
    "This way each respondent answers YES or NO but the surveyor doesn't know which question was answered. The data scientists then have to estimate the proportion of illegal drug users based on the overall proportion of YES answers, which includes the YES answers to the second question.\n",
    "\n",
    "Let the unknown proportion of illegal drug users in a large population be $p$, and suppose a random sample of size $n$ is surveyed using the scheme above. You can assume that the sampling is equivalent to drawing at random with replacement.\n",
    "\n",
    "**a)** Let $X$ be the proportion of sampled people who answer YES. Find $E(X)$.\n",
    "\n",
    "**b)** Use $X$ to construct an unbiased estimator of $p$.\n",
    "\n",
    "**c)** Suppose $n = 10$ and the results of the randomized response survey are as follows:\n",
    "\n",
    "$$\\text{NO} \\qquad \\text{YES} \\qquad \\text{NO} \\qquad \\text{NO} \\qquad \\text{NO} \\qquad \\text{NO} \\qquad \\text{YES} \\qquad \\text{NO} \\qquad \\text{YES} \\qquad \\text{NO}.$$\n",
    "\n",
    "Calculate the value of your unbiased estimator of $p$ for this sample."
   ]
  },
  {
   "cell_type": "markdown",
   "id": "d123e198",
   "metadata": {
    "#solution": false,
    "#staff": false,
    "#student": false
   },
   "source": [
    "\\newpage"
   ]
  },
  {
   "cell_type": "markdown",
   "id": "254c7a2c-f686-47ef-8f64-03813fe676d9",
   "metadata": {
    "#solution": false,
    "#staff": false,
    "#student": false
   },
   "source": [
    "## 3. Office Hours ##\n",
    "\n",
    "Emily decides to go to office hours the next day. With chance 80% she will go to an afternoon hour, and with the remaining chance she will go in the morning. If she goes in the afternoon, the number of students who will already be in the office hour room when she arrives has the uniform distribution on $\\{3, 4, 5, 6, 7\\}$. If she goes in the morning, the number of students who will already be in office hour room when she arrives has the Poisson $(2)$ distribution.\n",
    "\n",
    "**a)** Find the chance that fewer than 5 students are already in the office hour room when Emily arrives.\n",
    "\n",
    "**b)** Find the expected number of students already in the office hour room when Emily arrives."
   ]
  },
  {
   "cell_type": "markdown",
   "id": "9c548083",
   "metadata": {
    "#solution": false,
    "#staff": false,
    "#student": false
   },
   "source": [
    "\\newpage"
   ]
  },
  {
   "cell_type": "markdown",
   "id": "7391b6b1-4f29-4a0c-8382-e9d7ec38954b",
   "metadata": {
    "#solution": false,
    "#staff": false,
    "#student": false
   },
   "source": [
    "## 4. Sticker Collection ##\n",
    "\n",
    "Each box of Cal Crunch cereal contains a sticker. The sticker is equally likely to have one of the following five pictures on it, independently of the stickers in all other boxes.\n",
    "\n",
    "- a walking bear\n",
    "- a sleeping bear\n",
    "- the Campanile\n",
    "- Sather Gate\n",
    "- Evans Hall\n",
    "\n",
    "Stat 88 GSIs love to snack on Cal Crunch so they buy a box each week and put the sticker in their collection. In what follows, remember that \"till\" means \"up to and including\".\n",
    "\n",
    "**a)** Find the expected number of weeks till their collection has a bear sticker.\n",
    "\n",
    "**b)** Find the expected number of weeks till their collection has all five kinds of stickers.\n",
    "\n",
    "**c)** Find the expected number of weeks till their collection has a bear as well as a campus location.\n",
    "\n",
    "[They will get one of these on the first week. Remember to count that week in your calculation.]"
   ]
  },
  {
   "cell_type": "markdown",
   "id": "86939398-b33b-49d3-b46c-0cc211f3ac58",
   "metadata": {
    "#solution": false,
    "#staff": false,
    "#student": false
   },
   "source": [
    "## Submission Instructions ##\n",
    "\n",
    "Please follow the directions below to properly submit your work.\n",
    "\n",
    "### Written Work ###\n",
    "*  Scan all the pages into a PDF. You can use any scanner or a phone using applications such as CamScanner. Please **DO NOT** simply take pictures using your phone. \n",
    "* Please start a new page for each question. If you have already written multiple questions on the same page, you can crop the image in CamScanner or fold your page over (the old-fashioned way). This helps expedite grading.\n",
    "* It is your responsibility to check that all the work on all the scanned pages is legible.\n",
    "    \n",
    "### Submitting ###\n",
    "* Submit the assignment to Homework 6 on Gradescope. \n",
    "* **Make sure to assign each page of your pdf to the correct question.**\n",
    "* **It is your responsibility to verify that all of your work shows up in your final PDF submission.**\n",
    "\n",
    "If you have questions about scanning or uploading your work, please post a follow-up to the Ed thread on [Gradescope Assignment Submission](https://edstem.org/us/courses/35065/discussion/2413516)."
   ]
  },
  {
   "cell_type": "code",
   "execution_count": null,
   "id": "64ed2c88",
   "metadata": {
    "#solution": false,
    "#staff": false,
    "#student": false
   },
   "outputs": [],
   "source": []
  }
 ],
 "metadata": {
  "checksums": [
   "6e9d9428dfc4ae0311719cc29f4ab0f8",
   "23e47032618121765ce6ff9147605e9e",
   "7b5757edfe3a21b1f7fefbe136ea41da",
   "71219894d0cb6688d26f2c97b86cafd9",
   "562505d567faf02dfc9388e81e89d07b",
   "c9a545f9df02aa12a034283be5bbb417",
   "562505d567faf02dfc9388e81e89d07b",
   "f111f3f282a3e6b066f7fdb623cbe49b",
   "562505d567faf02dfc9388e81e89d07b",
   "961d58e46187c3ea936f05cd333b7fa7",
   "31eeaa7f480d73d4a364e393764360c3",
   "d41d8cd98f00b204e9800998ecf8427e"
  ],
  "kernelspec": {
   "display_name": "Python 3 (ipykernel)",
   "language": "python",
   "name": "python3"
  },
  "language_info": {
   "codemirror_mode": {
    "name": "ipython",
    "version": 3
   },
   "file_extension": ".py",
   "mimetype": "text/x-python",
   "name": "python",
   "nbconvert_exporter": "python",
   "pygments_lexer": "ipython3",
   "version": "3.9.15"
  },
  "number_of_pagebreaks": 0
 },
 "nbformat": 4,
 "nbformat_minor": 5
}
